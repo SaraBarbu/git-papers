{
 "cells": [
  {
   "cell_type": "code",
   "execution_count": 1,
   "id": "dd3b6ee7-cd9a-4405-8ae3-8352f3f5cfa6",
   "metadata": {},
   "outputs": [
    {
     "data": {
      "text/html": [
       "<div>\n",
       "<style scoped>\n",
       "    .dataframe tbody tr th:only-of-type {\n",
       "        vertical-align: middle;\n",
       "    }\n",
       "\n",
       "    .dataframe tbody tr th {\n",
       "        vertical-align: top;\n",
       "    }\n",
       "\n",
       "    .dataframe thead th {\n",
       "        text-align: right;\n",
       "    }\n",
       "</style>\n",
       "<table border=\"1\" class=\"dataframe\">\n",
       "  <thead>\n",
       "    <tr style=\"text-align: right;\">\n",
       "      <th></th>\n",
       "      <th>Unnamed: 0</th>\n",
       "      <th>name</th>\n",
       "      <th>source_website</th>\n",
       "      <th>license_code</th>\n",
       "      <th>author</th>\n",
       "      <th>source_url</th>\n",
       "      <th>tag</th>\n",
       "    </tr>\n",
       "  </thead>\n",
       "  <tbody>\n",
       "    <tr>\n",
       "      <th>0</th>\n",
       "      <td>0</td>\n",
       "      <td>adolescent_female_face65.jpg</td>\n",
       "      <td>https://www.flickr.com/photos</td>\n",
       "      <td>F6</td>\n",
       "      <td>(flickr AJU_photography)</td>\n",
       "      <td>https://www.flickr.com/photos/28045310@N08/405...</td>\n",
       "      <td>animate_being, human, face, female, adolescent</td>\n",
       "    </tr>\n",
       "    <tr>\n",
       "      <th>1</th>\n",
       "      <td>1</td>\n",
       "      <td>adolescent_female_face86.jpg</td>\n",
       "      <td>https://www.flickr.com/photos</td>\n",
       "      <td>F6</td>\n",
       "      <td>(flickr Matthew Kenwrick)</td>\n",
       "      <td>https://www.flickr.com/photos/58847482@N03/558...</td>\n",
       "      <td>animate_being, human, face, female, adolescent</td>\n",
       "    </tr>\n",
       "    <tr>\n",
       "      <th>2</th>\n",
       "      <td>2</td>\n",
       "      <td>adolescent_female_face95.jpg</td>\n",
       "      <td>https://www.flickr.com/photos</td>\n",
       "      <td>F0</td>\n",
       "      <td>Psicologia Italia (flickr psicologia24)</td>\n",
       "      <td>https://www.flickr.com/photos/psicologia24/487...</td>\n",
       "      <td>animate_being, human, face, female, adolescent</td>\n",
       "    </tr>\n",
       "    <tr>\n",
       "      <th>3</th>\n",
       "      <td>3</td>\n",
       "      <td>adolescent_female_face39.jpg</td>\n",
       "      <td>https://www.flickr.com/photos</td>\n",
       "      <td>F4</td>\n",
       "      <td>Kyle Taylor (flickr Kyle Taylor, Dream It. Do ...</td>\n",
       "      <td>https://www.flickr.com/photos/kyletaylor/73681...</td>\n",
       "      <td>animate_being, human, face, female, adolescent</td>\n",
       "    </tr>\n",
       "    <tr>\n",
       "      <th>4</th>\n",
       "      <td>4</td>\n",
       "      <td>adolescent_female_face118.jpg</td>\n",
       "      <td>https://www.flickr.com/photos</td>\n",
       "      <td>F4</td>\n",
       "      <td>David Stanley (flickr D-Stanley)</td>\n",
       "      <td>https://www.flickr.com/photos/davidstanleytrav...</td>\n",
       "      <td>animate_being, human, face, female, adolescent</td>\n",
       "    </tr>\n",
       "  </tbody>\n",
       "</table>\n",
       "</div>"
      ],
      "text/plain": [
       "   Unnamed: 0                           name                 source_website  \\\n",
       "0           0   adolescent_female_face65.jpg  https://www.flickr.com/photos   \n",
       "1           1   adolescent_female_face86.jpg  https://www.flickr.com/photos   \n",
       "2           2   adolescent_female_face95.jpg  https://www.flickr.com/photos   \n",
       "3           3   adolescent_female_face39.jpg  https://www.flickr.com/photos   \n",
       "4           4  adolescent_female_face118.jpg  https://www.flickr.com/photos   \n",
       "\n",
       "  license_code                                             author  \\\n",
       "0           F6                           (flickr AJU_photography)   \n",
       "1           F6                          (flickr Matthew Kenwrick)   \n",
       "2           F0            Psicologia Italia (flickr psicologia24)   \n",
       "3           F4  Kyle Taylor (flickr Kyle Taylor, Dream It. Do ...   \n",
       "4           F4                   David Stanley (flickr D-Stanley)   \n",
       "\n",
       "                                          source_url  \\\n",
       "0  https://www.flickr.com/photos/28045310@N08/405...   \n",
       "1  https://www.flickr.com/photos/58847482@N03/558...   \n",
       "2  https://www.flickr.com/photos/psicologia24/487...   \n",
       "3  https://www.flickr.com/photos/kyletaylor/73681...   \n",
       "4  https://www.flickr.com/photos/davidstanleytrav...   \n",
       "\n",
       "                                              tag  \n",
       "0  animate_being, human, face, female, adolescent  \n",
       "1  animate_being, human, face, female, adolescent  \n",
       "2  animate_being, human, face, female, adolescent  \n",
       "3  animate_being, human, face, female, adolescent  \n",
       "4  animate_being, human, face, female, adolescent  "
      ]
     },
     "execution_count": 1,
     "metadata": {},
     "output_type": "execute_result"
    }
   ],
   "source": [
    "import pandas as pd\n",
    "\n",
    "# Charger le fichier de métadonnées\n",
    "df = pd.read_csv(\"../image10k.image/image10k.tsv\", sep=\"\\t\")\n",
    "\n",
    "# Afficher les premières lignes\n",
    "df.head()"
   ]
  },
  {
   "cell_type": "code",
   "execution_count": 2,
   "id": "4d3ed894-93eb-4ee6-a753-f41997606d3a",
   "metadata": {},
   "outputs": [
    {
     "data": {
      "text/plain": [
       "Index(['Unnamed: 0', 'name', 'source_website', 'license_code', 'author',\n",
       "       'source_url', 'tag'],\n",
       "      dtype='object')"
      ]
     },
     "execution_count": 2,
     "metadata": {},
     "output_type": "execute_result"
    }
   ],
   "source": [
    "df.columns"
   ]
  },
  {
   "cell_type": "code",
   "execution_count": null,
   "id": "5ecf7aa4-6486-47b4-b45a-5cea85c07e8a",
   "metadata": {},
   "outputs": [],
   "source": []
  }
 ],
 "metadata": {
  "kernelspec": {
   "display_name": "Python 3 (ipykernel)",
   "language": "python",
   "name": "python3"
  },
  "language_info": {
   "codemirror_mode": {
    "name": "ipython",
    "version": 3
   },
   "file_extension": ".py",
   "mimetype": "text/x-python",
   "name": "python",
   "nbconvert_exporter": "python",
   "pygments_lexer": "ipython3",
   "version": "3.10.16"
  }
 },
 "nbformat": 4,
 "nbformat_minor": 5
}
