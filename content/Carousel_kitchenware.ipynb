{
 "cells": [
  {
   "cell_type": "code",
   "execution_count": 3,
   "id": "c3177545",
   "metadata": {
    "tags": [
     "hide-input"
    ]
   },
   "outputs": [
    {
     "name": "stderr",
     "output_type": "stream",
     "text": [
      "/home/sbarbu/miniconda3/envs/datalad-env/lib/python3.10/site-packages/dash/dash.py:516: UserWarning:\n",
      "\n",
      "JupyterDash is deprecated, use Dash instead.\n",
      "See https://dash.plotly.com/dash-in-jupyter for more details.\n",
      "\n"
     ]
    },
    {
     "data": {
      "text/html": [
       "\n",
       "        <iframe\n",
       "            width=\"100%\"\n",
       "            height=\"650\"\n",
       "            src=\"http://127.0.0.1:8987/\"\n",
       "            frameborder=\"0\"\n",
       "            allowfullscreen\n",
       "            \n",
       "        ></iframe>\n",
       "        "
      ],
      "text/plain": [
       "<IPython.lib.display.IFrame at 0x7fb09d8370a0>"
      ]
     },
     "metadata": {},
     "output_type": "display_data"
    }
   ],
   "source": [
    "from dash import dcc, html, Input, Output, State, ctx\n",
    "from jupyter_dash import JupyterDash\n",
    "import os\n",
    "\n",
    "# ✅ Dash config with correct asset path\n",
    "app = JupyterDash(\n",
    "    __name__,\n",
    "    assets_folder=os.path.abspath(\"../assets\"),\n",
    "    assets_url_path=\"/assets\"\n",
    ")\n",
    "app.title = \"🍽️ Kitchenware Carousel\"\n",
    "\n",
    "# 📂 Load kitchenware categories\n",
    "KITCHENWARE_DIR = os.path.abspath(\"../assets/object/kitchenware\")\n",
    "KITCHENWARE_ITEMS = sorted([\n",
    "    item for item in os.listdir(KITCHENWARE_DIR)\n",
    "    if os.path.isdir(os.path.join(KITCHENWARE_DIR, item))\n",
    "])\n",
    "\n",
    "# 📸 Load images into a dictionary {item: [image paths]}\n",
    "kitchenware_images = {\n",
    "    item: sorted([\n",
    "        f\"/assets/object/kitchenware/{item}/{img}\"\n",
    "        for img in os.listdir(os.path.join(KITCHENWARE_DIR, item))\n",
    "        if img.lower().endswith((\".jpg\", \".jpeg\", \".png\"))\n",
    "    ])\n",
    "    for item in KITCHENWARE_ITEMS\n",
    "}\n",
    "\n",
    "# 🖼️ Layout\n",
    "app.layout = html.Div([\n",
    "    html.H2(\"🍽️ Kitchenware Carousel\", style={\"textAlign\": \"center\", \"marginBottom\": \"30px\"}),\n",
    "\n",
    "    html.Div([\n",
    "        html.Label(\"Select kitchenware item:\", style={\n",
    "            \"fontWeight\": \"normal\", \"display\": \"block\", \"marginBottom\": \"8px\"\n",
    "        }),\n",
    "        dcc.Dropdown(\n",
    "            id='item-dropdown',\n",
    "            options=[{\"label\": item.replace(\"_\", \" \").capitalize(), \"value\": item} for item in KITCHENWARE_ITEMS],\n",
    "            value=KITCHENWARE_ITEMS[0],\n",
    "            clearable=False,\n",
    "            style={\"width\": \"300px\", \"margin\": \"0 auto\"}\n",
    "        )\n",
    "    ], style={\"textAlign\": \"center\", \"marginBottom\": \"20px\"}),\n",
    "\n",
    "    html.Div(id='carousel-container', style={\"textAlign\": \"center\"})\n",
    "])\n",
    "\n",
    "# 🔁 Update carousel on selection\n",
    "@app.callback(\n",
    "    Output('carousel-container', 'children'),\n",
    "    Input('item-dropdown', 'value')\n",
    ")\n",
    "def update_carousel(item):\n",
    "    images = kitchenware_images.get(item, [])\n",
    "    if not images:\n",
    "        return html.P(\"No images available.\", style={\"textAlign\": \"center\"})\n",
    "\n",
    "    filename = os.path.basename(images[0])\n",
    "\n",
    "    return html.Div([\n",
    "        html.Div([\n",
    "            html.Button(\"⬅️\", id=\"prev-button\", n_clicks=0,\n",
    "                        style={\"fontSize\": \"24px\", \"padding\": \"10px 15px\", \"marginRight\": \"20px\"}),\n",
    "            html.Img(id=\"carousel-image\", src=images[0],\n",
    "                     style={\"height\": \"450px\", \"display\": \"inline-block\", \"verticalAlign\": \"middle\"}),\n",
    "            html.Button(\"➡️\", id=\"next-button\", n_clicks=0,\n",
    "                        style={\"fontSize\": \"24px\", \"padding\": \"10px 15px\", \"marginLeft\": \"20px\"}),\n",
    "        ], style={\"textAlign\": \"center\", \"marginBottom\": \"20px\"}),\n",
    "\n",
    "        dcc.Store(id='image-index', data=0),\n",
    "        dcc.Store(id='current-images', data=images),\n",
    "        html.Div(f\"1/{len(images)} - {filename}\", id='filename-display',\n",
    "                 style={\"textAlign\": \"center\", \"fontSize\": \"14px\", \"fontStyle\": \"italic\"})\n",
    "    ])\n",
    "\n",
    "# 🔁 Arrows navigation\n",
    "@app.callback(\n",
    "    Output(\"carousel-image\", \"src\"),\n",
    "    Output(\"image-index\", \"data\"),\n",
    "    Output(\"filename-display\", \"children\"),\n",
    "    Input(\"prev-button\", \"n_clicks\"),\n",
    "    Input(\"next-button\", \"n_clicks\"),\n",
    "    State(\"current-images\", \"data\"),\n",
    "    State(\"image-index\", \"data\"),\n",
    "    prevent_initial_call=True\n",
    ")\n",
    "def navigate_images(prev_clicks, next_clicks, images, index):\n",
    "    if not images:\n",
    "        return \"\", 0, \"No images\"\n",
    "\n",
    "    triggered = ctx.triggered_id\n",
    "    if triggered == \"next-button\":\n",
    "        index = (index + 1) % len(images)\n",
    "    elif triggered == \"prev-button\":\n",
    "        index = (index - 1) % len(images)\n",
    "\n",
    "    filename = os.path.basename(images[index])\n",
    "    return images[index], index, f\"{index + 1}/{len(images)} - {filename}\"\n",
    "\n",
    "# 🚀 Launch app\n",
    "app.run(port=8987)\n"
   ]
  },
  {
   "cell_type": "code",
   "execution_count": null,
   "id": "451c8c6d",
   "metadata": {},
   "outputs": [],
   "source": []
  }
 ],
 "metadata": {
  "celltoolbar": "Tags",
  "kernelspec": {
   "display_name": "Python (datalad-env)",
   "language": "python",
   "name": "datalad-env"
  },
  "language_info": {
   "codemirror_mode": {
    "name": "ipython",
    "version": 3
   },
   "file_extension": ".py",
   "mimetype": "text/x-python",
   "name": "python",
   "nbconvert_exporter": "python",
   "pygments_lexer": "ipython3",
   "version": "3.10.13"
  }
 },
 "nbformat": 4,
 "nbformat_minor": 5
}
